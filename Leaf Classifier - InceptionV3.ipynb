{
 "cells": [
  {
   "cell_type": "code",
   "execution_count": 1,
   "id": "9155ba4b",
   "metadata": {},
   "outputs": [],
   "source": [
    "from tensorflow.keras.layers import Input, Lambda, Dense, Flatten\n",
    "from tensorflow.keras.models import Model\n",
    "from tensorflow.keras.applications.inception_v3 import InceptionV3\n",
    "from tensorflow.keras.applications.inception_v3 import preprocess_input\n",
    "from tensorflow.keras.preprocessing import image\n",
    "from tensorflow.keras.preprocessing.image import ImageDataGenerator,load_img\n",
    "from tensorflow.keras.models import Sequential\n",
    "import numpy as np\n",
    "from glob import glob"
   ]
  },
  {
   "cell_type": "code",
   "execution_count": 2,
   "id": "ab51cc6d",
   "metadata": {},
   "outputs": [],
   "source": [
    "# re-size all the images to this\n",
    "IMAGE_SIZE = [224, 224]\n",
    "\n",
    "train_path = 'datasets/train'\n",
    "valid_path = 'datasets/test'"
   ]
  },
  {
   "cell_type": "code",
   "execution_count": 3,
   "id": "9095fcc2",
   "metadata": {},
   "outputs": [],
   "source": [
    "inception = InceptionV3(input_shape = IMAGE_SIZE + [3], weights = 'imagenet', include_top = False)"
   ]
  },
  {
   "cell_type": "code",
   "execution_count": 4,
   "id": "3752ec7c",
   "metadata": {},
   "outputs": [],
   "source": [
    "# don't train existing weights\n",
    "for layer in inception.layers:\n",
    "    layer.trainable = False"
   ]
  },
  {
   "cell_type": "code",
   "execution_count": 5,
   "id": "b8f157ea",
   "metadata": {},
   "outputs": [],
   "source": [
    "# useful for getting number of output classes\n",
    "folders = glob('Datasets/train/*')"
   ]
  },
  {
   "cell_type": "code",
   "execution_count": 6,
   "id": "323d0350",
   "metadata": {},
   "outputs": [],
   "source": [
    "# layers - add more if you want\n",
    "x = Flatten()(inception.output)"
   ]
  },
  {
   "cell_type": "code",
   "execution_count": 7,
   "id": "e7550d7b",
   "metadata": {},
   "outputs": [],
   "source": [
    "prediction = Dense(len(folders), activation = 'softmax')(x)\n",
    "\n",
    "# create a model object\n",
    "model = Model(inputs = inception.input, outputs = prediction)"
   ]
  },
  {
   "cell_type": "code",
   "execution_count": 8,
   "id": "513b9db1",
   "metadata": {},
   "outputs": [],
   "source": [
    "# loss function and optimizer\n",
    "model.compile(loss = 'categorical_crossentropy', optimizer = 'adam', metrics = ['accuracy'])"
   ]
  },
  {
   "cell_type": "code",
   "execution_count": 9,
   "id": "c2d16856",
   "metadata": {},
   "outputs": [],
   "source": [
    "# Use the Image Data Generator to import the images from the dataset\n",
    "from tensorflow.keras.preprocessing.image import ImageDataGenerator\n",
    "\n",
    "train_datagen = ImageDataGenerator(rescale = 1./255,\n",
    "                                   shear_range = 0.2,\n",
    "                                   zoom_range = 0.2,\n",
    "                                   horizontal_flip = True)\n",
    "\n",
    "test_datagen = ImageDataGenerator(rescale = 1./255)"
   ]
  },
  {
   "cell_type": "code",
   "execution_count": 10,
   "id": "9cee46c6",
   "metadata": {},
   "outputs": [
    {
     "name": "stdout",
     "output_type": "stream",
     "text": [
      "Found 1951 images belonging to 4 classes.\n"
     ]
    }
   ],
   "source": [
    "# provide the same target size as initialied for the image size\n",
    "training_set = train_datagen.flow_from_directory('Datasets/train',\n",
    "                                                 target_size = (224, 224),\n",
    "                                                 batch_size = 32,\n",
    "                                                 class_mode = 'categorical')"
   ]
  },
  {
   "cell_type": "code",
   "execution_count": 11,
   "id": "a152e192",
   "metadata": {},
   "outputs": [
    {
     "name": "stdout",
     "output_type": "stream",
     "text": [
      "Found 18 images belonging to 4 classes.\n"
     ]
    }
   ],
   "source": [
    "test_set = test_datagen.flow_from_directory('Datasets/test',\n",
    "                                            target_size = (224, 224),\n",
    "                                            batch_size = 32,\n",
    "                                            class_mode = 'categorical')"
   ]
  },
  {
   "cell_type": "code",
   "execution_count": 12,
   "id": "03a4ec42",
   "metadata": {},
   "outputs": [
    {
     "name": "stdout",
     "output_type": "stream",
     "text": [
      "WARNING:tensorflow:From <ipython-input-12-2d02736eff38>:3: Model.fit_generator (from tensorflow.python.keras.engine.training) is deprecated and will be removed in a future version.\n",
      "Instructions for updating:\n",
      "Please use Model.fit, which supports generators.\n",
      "Epoch 1/20\n",
      "61/61 [==============================] - 51s 837ms/step - loss: 2.2645 - accuracy: 0.7427 - val_loss: 0.1874 - val_accuracy: 0.8889\n",
      "Epoch 2/20\n",
      "61/61 [==============================] - 49s 807ms/step - loss: 0.6286 - accuracy: 0.8872 - val_loss: 1.2711 - val_accuracy: 0.7222\n",
      "Epoch 3/20\n",
      "61/61 [==============================] - 50s 812ms/step - loss: 0.7485 - accuracy: 0.8965 - val_loss: 0.0012 - val_accuracy: 1.0000\n",
      "Epoch 4/20\n",
      "61/61 [==============================] - 49s 811ms/step - loss: 0.5264 - accuracy: 0.9241 - val_loss: 0.1484 - val_accuracy: 0.9444\n",
      "Epoch 5/20\n",
      "61/61 [==============================] - 49s 810ms/step - loss: 0.4395 - accuracy: 0.9272 - val_loss: 0.7936 - val_accuracy: 0.8333\n",
      "Epoch 6/20\n",
      "61/61 [==============================] - 50s 814ms/step - loss: 0.6465 - accuracy: 0.9159 - val_loss: 0.0056 - val_accuracy: 1.0000\n",
      "Epoch 7/20\n",
      "61/61 [==============================] - 49s 806ms/step - loss: 0.3144 - accuracy: 0.9462 - val_loss: 0.8584 - val_accuracy: 0.8333\n",
      "Epoch 8/20\n",
      "61/61 [==============================] - 49s 805ms/step - loss: 0.4679 - accuracy: 0.9416 - val_loss: 0.4471 - val_accuracy: 0.8889\n",
      "Epoch 9/20\n",
      "61/61 [==============================] - 49s 808ms/step - loss: 0.5596 - accuracy: 0.9390 - val_loss: 0.0741 - val_accuracy: 0.9444\n",
      "Epoch 10/20\n",
      "61/61 [==============================] - 49s 804ms/step - loss: 0.4443 - accuracy: 0.9498 - val_loss: 3.2894e-05 - val_accuracy: 1.0000\n",
      "Epoch 11/20\n",
      "61/61 [==============================] - 49s 803ms/step - loss: 0.5013 - accuracy: 0.9431 - val_loss: 0.0488 - val_accuracy: 1.0000\n",
      "Epoch 12/20\n",
      "61/61 [==============================] - 49s 808ms/step - loss: 0.3951 - accuracy: 0.9518 - val_loss: 1.2661 - val_accuracy: 0.8889\n",
      "Epoch 13/20\n",
      "61/61 [==============================] - 49s 809ms/step - loss: 0.5618 - accuracy: 0.9329 - val_loss: 0.1575 - val_accuracy: 0.9444\n",
      "Epoch 14/20\n",
      "61/61 [==============================] - 50s 815ms/step - loss: 0.3493 - accuracy: 0.9544 - val_loss: 0.0180 - val_accuracy: 1.0000\n",
      "Epoch 15/20\n",
      "61/61 [==============================] - 50s 823ms/step - loss: 0.3971 - accuracy: 0.9616 - val_loss: 4.2519e-04 - val_accuracy: 1.0000\n",
      "Epoch 16/20\n",
      "61/61 [==============================] - 49s 807ms/step - loss: 0.3491 - accuracy: 0.9585 - val_loss: 0.0392 - val_accuracy: 1.0000\n",
      "Epoch 17/20\n",
      "61/61 [==============================] - 49s 807ms/step - loss: 0.3400 - accuracy: 0.9610 - val_loss: 2.5221e-05 - val_accuracy: 1.0000\n",
      "Epoch 18/20\n",
      "61/61 [==============================] - 49s 804ms/step - loss: 0.3242 - accuracy: 0.9631 - val_loss: 0.0121 - val_accuracy: 1.0000\n",
      "Epoch 19/20\n",
      "61/61 [==============================] - 49s 804ms/step - loss: 0.4358 - accuracy: 0.9549 - val_loss: 0.0067 - val_accuracy: 1.0000\n",
      "Epoch 20/20\n",
      "61/61 [==============================] - 49s 803ms/step - loss: 0.3542 - accuracy: 0.9610 - val_loss: 0.0000e+00 - val_accuracy: 1.0000\n"
     ]
    }
   ],
   "source": [
    "# fit the model\n",
    "# Run the cell. It will take some time to execute\n",
    "r = model.fit_generator(\n",
    "  training_set,\n",
    "  validation_data=test_set,\n",
    "  epochs=20,\n",
    "  steps_per_epoch=len(training_set),\n",
    "  validation_steps=len(test_set)\n",
    ")"
   ]
  },
  {
   "cell_type": "code",
   "execution_count": 13,
   "id": "74bd919a",
   "metadata": {},
   "outputs": [
    {
     "data": {
      "image/png": "[encoded data removed]",
      "text/plain": [
       "<Figure size 432x288 with 1 Axes>"
      ]
     },
     "metadata": {
      "needs_background": "light"
     },
     "output_type": "display_data"
    },
    {
     "data": {
      "image/png": "[encoded data removed]",
      "text/plain": [
       "<Figure size 432x288 with 1 Axes>"
      ]
     },
     "metadata": {
      "needs_background": "light"
     },
     "output_type": "display_data"
    }
   ],
   "source": [
    "import matplotlib.pyplot as plt\n",
    "\n",
    "# plot the loss\n",
    "plt.plot(r.history['loss'], label='train loss')\n",
    "plt.plot(r.history['val_loss'], label='val loss')\n",
    "plt.legend()\n",
    "plt.show()\n",
    "\n",
    "# plot the accuracy\n",
    "plt.plot(r.history['accuracy'], label='train acc')\n",
    "plt.plot(r.history['val_accuracy'], label='val acc')\n",
    "plt.legend()\n",
    "plt.show()"
   ]
  },
  {
   "cell_type": "code",
   "execution_count": 14,
   "id": "617c420e",
   "metadata": {},
   "outputs": [],
   "source": [
    "# save it as a h5 file\n",
    "\n",
    "from tensorflow.keras.models import load_model\n",
    "model.save('model_inception.h5')"
   ]
  }
 ],
 "metadata": {
  "kernelspec": {
   "display_name": "Python 3",
   "language": "python",
   "name": "python3"
  },
  "language_info": {
   "codemirror_mode": {
    "name": "ipython",
    "version": 3
   },
   "file_extension": ".py",
   "mimetype": "text/x-python",
   "name": "python",
   "nbconvert_exporter": "python",
   "pygments_lexer": "ipython3",
   "version": "3.8.8"
  }
 },
 "nbformat": 4,
 "nbformat_minor": 5
}
